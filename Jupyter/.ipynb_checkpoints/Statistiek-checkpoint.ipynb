{
 "cells": [
  {
   "cell_type": "markdown",
   "metadata": {},
   "source": [
    "Introductie\n",
    "\n",
    "big data: één of meer datasets die te groot zijn voor regulieren databasemanagementsystemen\n",
    "\n",
    "verzameling van eenheden die we bestuderen vb.: populatie\n",
    "deelverameling van eenheden van de populatie: steekproef\n",
    "gegevens waarmee we kunnen rekenen en het zinvol is om te rekenen: kwantitatief\n",
    "    *continu: alle waarde in een bepaald interval mogelijk\n",
    "    *Discreet: bepaald aantal waarde mogelijk\n",
    "gegevens waarmee we niet kunnen rekenen of het niet zinvol is te rekenen: kwalitatief"
   ]
  },
  {
   "cell_type": "markdown",
   "metadata": {},
   "source": [
    "Met welke soort gegevens hebben we hier te maken?\n",
    "(a) bloedgroep\n",
    "(b) temperatuur\n",
    "(c) rendement (hoog-laag-normaal)\n",
    "(d) geslacht\n",
    "(e) examencijfers\n",
    "(f) godsdienst\n",
    "(g) Salarisschaal (HEI19, HEI18, HEI17, ...)\n",
    "(h) het aantal producten dat niet voldoet aan de kwaliteitscriteria\n",
    "(i) de kleur van een kledingsstuk\n",
    "(j) de mate van tevredenheid\n",
    "(k) het merk van een auto\n",
    "(l) de levensduur van een wasmachine"
   ]
  },
  {
   "cell_type": "markdown",
   "metadata": {},
   "source": [
    "(a) kwalitatief\n",
    "(b) kwantitatief continu\n",
    "(c) kwalitatief\n",
    "(d) kwalitatief\n",
    "(e) kwantitatief discreet\n",
    "(f) kwantitatief\n",
    "(g) kwalitatief\n",
    "(h) kwantitatief discreet\n",
    "(i) kwalitatief\n",
    "(j) kwantitatief discreet\n",
    "(k) kwantitatief discreet\n",
    "(l)kwantitatief continu"
   ]
  },
  {
   "attachments": {},
   "cell_type": "markdown",
   "metadata": {},
   "source": [
    "Opiniepeilers houden regelmatig enquêtes om de populariteit van de huidige president in een republiek te peilen. Stel dat er morgen een enquête gehouden wordt waarin 2000 personen gevraagd zal worden of de president het goed of slecht doet. De 2000 personen worden gekozen door random telefoonnummers te kiezen, en de vragen worden per telefoon gesteld.\n",
    "(a) Wat is de relevante populatie?\n",
    "(b) Wat is de relevante variabele? Is deze kwantitatief of kwalitatief?\n",
    "(c) Wat is de steekproef?\n",
    "(d) Is dit een goede manier om een steekproef te trekken?\n"
   ]
  },
  {
   "cell_type": "markdown",
   "metadata": {},
   "source": [
    "(a) inwoners van de republiek\n",
    "(b) kwalitatief, de tevredenheid over de president\n",
    "(c) 2000 -> opgebeld\n",
    "(d) nee, geen goede steekproef\n"
   ]
  },
  {
   "attachments": {},
   "cell_type": "markdown",
   "metadata": {},
   "source": [
    "Er zijn verschillende soorten gemiddeldes, maar meestal wordt gebruik gemaakt van het rekenkundige gemiddelde.\n",
    "\n",
    "Het rekenkundige gemiddelde van een verzameling gegevens is de som van de gegevens gedeeld door het aantal gegevens.\n",
    "Voorbeeld:\n",
    "10 10 9 7 6 7 5 8 8 7 10 7 7 9\n",
    "Het gemiddelde van deze reeks gegevens is:"
   ]
  },
  {
   "cell_type": "code",
   "execution_count": 3,
   "metadata": {},
   "outputs": [
    {
     "name": "stdout",
     "output_type": "stream",
     "text": [
      "7.857142857142857\n"
     ]
    }
   ],
   "source": [
    "listValues =[10, 10, 9, 7, 6, 7, 5, 8, 8, 7, 10, 7, 7, 9]\n",
    "gemiddelde = sum(listValues)/len(listValues)\n",
    "print(gemiddelde)"
   ]
  },
  {
   "attachments": {},
   "cell_type": "markdown",
   "metadata": {},
   "source": [
    "Voorbeeld:\n",
    "2 3 4 5 20\n",
    "Het gemiddelde van deze reeks gegevens is 6,8. Dit geeft echter geen goed beeld van deze gegevens, want het gemiddelde is groter dan vier van de vijf gegevens.\n"
   ]
  },
  {
   "cell_type": "code",
   "execution_count": 4,
   "metadata": {},
   "outputs": [
    {
     "name": "stdout",
     "output_type": "stream",
     "text": [
      "6.8\n"
     ]
    }
   ],
   "source": [
    "listValues =[2, 3, 4, 5, 20]\n",
    "gemiddelde = sum(listValues)/len(listValues)\n",
    "print(gemiddelde)"
   ]
  },
  {
   "attachments": {},
   "cell_type": "markdown",
   "metadata": {},
   "source": [
    "De mediaan Me van een kwantitatieve gegevensverzameling is het middelste gegeven wanneer de gegevens in stijgende (of dalende) orde worden gerangschikt.\n",
    "Dit betekent dat 50 % van de gegevens kleiner is dan de mediaan en 50 % groter.\n",
    "We kunnen dus de mediaan berekenen door de n waarden van klein naar groot te sorteren en\n",
    "1. Als n oneven is, is Me het middelste getal,\n",
    "2. als n even is, is Me het gemiddelde van de twee middelste getallen.\n"
   ]
  },
  {
   "cell_type": "markdown",
   "metadata": {},
   "source": [
    "Voorbeeld:\n",
    "10 10 9 7 6 7 5 8 8 7 10 7 7 9\n",
    "Gerangschikt krijgen we\n",
    "5 6 7 7 7 7 7 8 8 9 9 10 10 10\n",
    "De middelste twee gegevens zijn 7 en 8. De mediaan is het gemiddelde van deze twee waarden, dus 7,5.\n"
   ]
  },
  {
   "cell_type": "code",
   "execution_count": 10,
   "metadata": {},
   "outputs": [
    {
     "name": "stdout",
     "output_type": "stream",
     "text": [
      "7.5\n"
     ]
    }
   ],
   "source": [
    "import statistics\n",
    "listValues =[10, 10, 9, 7, 6, 7, 5, 8, 8, 7, 10, 7, 7, 9]\n",
    "listValues.sort()\n",
    "print(statistics.median(listValues))"
   ]
  },
  {
   "attachments": {},
   "cell_type": "markdown",
   "metadata": {},
   "source": [
    "De modus Mo is de waarde die het vaakst voorkomt in de gegevensverzameling.\n",
    "De modale klasse is de klasse met de hoogste frequentie. De modus zelf is dan de centrale waarde van de modale klasse.\n",
    "\n",
    "De modus is bij uitstek geschikt voor het beschrijven van kwalitatieve gegevens. Omdat de modus de nadruk legt op concentratie van gegevens, wordt deze ook gebruikt bij kwantitatieve gegevens om het gebied op te sporen waar veel van de gegevens zijn geconcentreerd. \n",
    "Voor sommige kwantitatieve gegevens kan de modus weinigzeggend zijn."
   ]
  },
  {
   "cell_type": "markdown",
   "metadata": {},
   "source": [
    "OPDRACHT\n",
    "1) Gegeven is de volgende reeks van 10 lengtemetingen in cm van ijzeren staven:\n",
    "38,2 44,7 39,2 36,2 46,9 39,1 42,5 34,8 43,9 43,0\n",
    "Bepaal het gemiddelde, de mediaan en de modus van deze metingen.\n",
    "\n",
    "2) Gegeven zijn drie series resultaten\n",
    "7 7 8 8 9 9 9 10;\n",
    "7 7 9 10;\n",
    "5 5 6 9\n",
    "(a) Bepaal van deze series het gemiddelde en de mediaan.\n",
    "(b) Bepaal op een snelle manier het gemiddelde en de mediaan van de drie series\n",
    "tezamen. Bij welke centrummaat gaat dat het gemakkelijkst?\n"
   ]
  },
  {
   "cell_type": "code",
   "execution_count": 30,
   "metadata": {},
   "outputs": [
    {
     "name": "stdout",
     "output_type": "stream",
     "text": [
      "gemiddelde:  40.85\n",
      "mediaan:  40.85\n"
     ]
    },
    {
     "data": {
      "image/png": "[encoded data removed]",
      "text/plain": [
       "<Figure size 432x288 with 1 Axes>"
      ]
     },
     "metadata": {
      "needs_background": "light"
     },
     "output_type": "display_data"
    }
   ],
   "source": [
    "list =[38.2, 44.7, 39.2, 36.2, 46.9, 39.1, 42.5, 34.8, 43.9, 43.0]\n",
    "gemiddelde = sum(list)/len(list)\n",
    "print(\"gemiddelde: \",gemiddelde)\n",
    "\n",
    "import statistics\n",
    "list.sort()\n",
    "print(\"mediaan: \",statistics.median(list))\n",
    "\n",
    "import numpy as np\n",
    "import matplotlib.pyplot as plt\n",
    " \n",
    "# Make a dataset:\n",
    "height = [38.2, 44.7, 39.2, 36.2, 46.9, 39.1, 42.5, 34.8, 43.9, 43.0]\n",
    "bars = dict.fromkeys(height)\n",
    "y_pos = np.arange(len(bars))\n",
    " \n",
    "# Create bars\n",
    "plt.bar(y_pos, height)\n",
    " \n",
    "# Create names on the x-axis\n",
    "plt.xticks(y_pos, bars)\n",
    " \n",
    "# Show graphic\n",
    "plt.show()\n"
   ]
  },
  {
   "cell_type": "code",
   "execution_count": 39,
   "metadata": {},
   "outputs": [
    {
     "name": "stdout",
     "output_type": "stream",
     "text": [
      "gemiddelde1:  8.375\n",
      "gemiddelde2:  8.25\n",
      "gemiddelde3:  6.25\n",
      "mediaan1:  8.5\n",
      "mediaan2:  8.0\n",
      "mediaan3:  5.5\n",
      "[5, 5, 6, 7, 7, 7, 7, 8, 8, 9, 9, 9, 9, 9, 10, 10]\n",
      "totaal mediaan:  8.0\n"
     ]
    }
   ],
   "source": [
    "list1 =[7, 7, 8, 8, 9, 9, 9, 10]\n",
    "list2 =[7, 7, 9, 10]\n",
    "list3 =[5, 5, 6, 9]\n",
    "gemiddelde1 = sum(list1)/len(list1)\n",
    "gemiddelde2 = sum(list2)/len(list2)\n",
    "gemiddelde3 = sum(list3)/len(list3)\n",
    "print(\"gemiddelde1: \",gemiddelde1)\n",
    "print(\"gemiddelde2: \",gemiddelde2)\n",
    "print(\"gemiddelde3: \",gemiddelde3)\n",
    "\n",
    "import statistics\n",
    "print(\"mediaan1: \",statistics.median(list1))\n",
    "print(\"mediaan2: \",statistics.median(list2))\n",
    "print(\"mediaan3: \",statistics.median(list3))\n",
    "\n",
    "total=list1\n",
    "total.extend(list2)\n",
    "total.extend(list3)\n",
    "total.sort()\n",
    "print(total)\n",
    "print(\"totaal mediaan: \",statistics.median(total))"
   ]
  },
  {
   "cell_type": "markdown",
   "metadata": {},
   "source": [
    "Het bereik (Range) R van een kwantitatieve gegevensverzameling is gelijk aan het verschil tussen het grootste gegeven en het kleinste gegeven.\n",
    "\n",
    "R is gemakkelijk te berekenen, maar houdt enkel rekening met de uiterste waarden. \n",
    "Een verzameling gegevens kan echter een centrale kern hebben met een dichte concentratie aan gegevens, waar toevallig de uiterste waarden zeer ver uit elkaar liggen. R zou in dat geval zeer groot zijn, terwijl in werkelijkheid de spreiding zeer klein is. \n",
    "Het is dus geen al te goede maatstaf om de spreiding te meten. Bovendien is R afhankelijk van de grootte van de steekproef.\n"
   ]
  },
  {
   "attachments": {},
   "cell_type": "markdown",
   "metadata": {},
   "source": [
    "de interkwartielafstand\n",
    "Kwartielen Qi zijn de waarden die een geordende reeks gegevens in 4 gelijke stukken verdelen, die ieder een kwart van de gegevens bevatten (25%).\n",
    "Voorbeeld:\n",
    "10 10 9 7 6 7 5 8 8 7 10 7 7 9\n",
    "Gerangschikt krijgen we\n",
    "5 6 7 7 7 7 7 8 8 9 9 10 10 10\n",
    "\n",
    "We kunnen de gegevens eerst in twee gelijke delen verdelen. \n",
    "Dit betekent dat we de mediaan moeten zoeken. \n",
    "We hadden reeds gevonden dat de mediaan gelijk is aan 7,5.\n",
    "Dit betekent ook dat het tweede kwartiel Q2 gelijk is aan de mediaan. "
   ]
  },
  {
   "cell_type": "markdown",
   "metadata": {},
   "source": [
    "Vervolgens moeten we de eerste helft \n",
    "5 6 7 7 7 7 7\n",
    "nog eens in twee gelijke delen verdelen. \n",
    "\n",
    "Dit betekent dat we de mediaan van deze helft moeten zoeken. Deze is hier 7, dus het eerste kwartiel Q1 is 7. \n",
    "\n",
    "We doen hetzelfde met de tweede helft \n",
    "8 8 9 9 10 10 10\n",
    "en vinden zo dat het derde kwartiel Q3 gelijk is aan 9.\n",
    "\n",
    "Opdracht: Waaraan zal Q4 gelijk zijn in het voorbeeld hierboven?\n",
    "Q4 is gelijk aan de max waarde in de lijst dus dit is 10"
   ]
  },
  {
   "cell_type": "markdown",
   "metadata": {},
   "source": [
    "Wanneer we de kwartielen van een gegevensverzameling kennen, kunnen we deze handig weergeven in een boxplot.\n",
    "\n",
    "10 10 9 7 6 7 5 8 8 7 10 7 7 9\n",
    "We hebben voor deze gegevens gevonden dat Q1 = 7, Me = 7,5 en Q3 = 9. Het minimum van de gegevens is 5 en het maximum 10. De boxplot ziet er dan als volgt uit:\n"
   ]
  },
  {
   "cell_type": "code",
   "execution_count": 51,
   "metadata": {},
   "outputs": [
    {
     "data": {
      "text/plain": [
       "{'whiskers': [<matplotlib.lines.Line2D at 0x1648861bd68>,\n",
       "  <matplotlib.lines.Line2D at 0x164886245c0>],\n",
       " 'caps': [<matplotlib.lines.Line2D at 0x164886249e8>,\n",
       "  <matplotlib.lines.Line2D at 0x16488624e10>],\n",
       " 'boxes': [<matplotlib.lines.Line2D at 0x1648861bc18>],\n",
       " 'medians': [<matplotlib.lines.Line2D at 0x16488624ef0>],\n",
       " 'fliers': [<matplotlib.lines.Line2D at 0x1648862b6a0>],\n",
       " 'means': []}"
      ]
     },
     "execution_count": 51,
     "metadata": {},
     "output_type": "execute_result"
    },
    {
     "data": {
      "image/png": "[encoded data removed]",
      "text/plain": [
       "<Figure size 432x288 with 1 Axes>"
      ]
     },
     "metadata": {
      "needs_background": "light"
     },
     "output_type": "display_data"
    }
   ],
   "source": [
    "import numpy as np\n",
    "import matplotlib.pyplot as plt\n",
    "\n",
    "data =(10, 10, 9, 7, 6, 7, 5, 8, 8, 7, 10, 7, 7, 9)\n",
    "fig1, ax = plt.subplots()\n",
    "\n",
    "ax.boxplot(data, vert=False)"
   ]
  },
  {
   "cell_type": "markdown",
   "metadata": {},
   "source": [
    "De interkwartielafstand Q is het verschil tussen het derde en het eerste kwartiel.\n",
    "\n",
    "De interkwartielafstand wordt goed zichtbaar in een boxplot. De lengte van de 'box’ komt namelijk overeen met de interkwartielafstand.\n",
    "\n",
    "Extreem hoge of lage gegevens hebben geen invloed op de waarde van de kwartielen, net zoals bij de mediaan. Ook de interkwartielafstand maakt echter geen gebruik van alle gegevens.\n"
   ]
  },
  {
   "cell_type": "markdown",
   "metadata": {},
   "source": [
    "de standaarddeviatie\n",
    "Aan de hand van een voorbeeld maken we kennis met een andere spreidingsmaat.\n",
    "\n",
    "De resultaten van een test op 10 van een klas zijn de volgende.\n",
    "10 9 7 6 6 6 5 8 8 7 2 10 5 7 9\n",
    "\n",
    "We kennen alle gegevens van de klas, dus we hebben hier te maken met een populatie.\n",
    "Het gemiddelde is 7/10.\n",
    "\n",
    "Om iets te weten te komen over de spreiding van de gegevens, kunnen we bekijken hoe ver de gegevens van het gemiddelde liggen. \n",
    "Daarom berekenen we de afwijkingen ten opzichte van het gemiddelde, of de deviaties."
   ]
  },
  {
   "cell_type": "markdown",
   "metadata": {},
   "source": [
    "De deviatie van een gegeven is het verschil tussen het gegeven en het\n",
    "gemiddelde, Xi - µ"
   ]
  },
  {
   "cell_type": "code",
   "execution_count": 77,
   "metadata": {},
   "outputs": [
    {
     "data": {
      "text/html": [
       "<div>\n",
       "<style scoped>\n",
       "    .dataframe tbody tr th:only-of-type {\n",
       "        vertical-align: middle;\n",
       "    }\n",
       "\n",
       "    .dataframe tbody tr th {\n",
       "        vertical-align: top;\n",
       "    }\n",
       "\n",
       "    .dataframe thead th {\n",
       "        text-align: right;\n",
       "    }\n",
       "</style>\n",
       "<table border=\"1\" class=\"dataframe\">\n",
       "  <thead>\n",
       "    <tr style=\"text-align: right;\">\n",
       "      <th></th>\n",
       "      <th>gegeven1</th>\n",
       "      <th>gegeven2</th>\n",
       "      <th>deviatie</th>\n",
       "    </tr>\n",
       "  </thead>\n",
       "  <tbody>\n",
       "    <tr>\n",
       "      <th>0</th>\n",
       "      <td>1</td>\n",
       "      <td>10</td>\n",
       "      <td>3</td>\n",
       "    </tr>\n",
       "    <tr>\n",
       "      <th>1</th>\n",
       "      <td>2</td>\n",
       "      <td>9</td>\n",
       "      <td>2</td>\n",
       "    </tr>\n",
       "    <tr>\n",
       "      <th>2</th>\n",
       "      <td>3</td>\n",
       "      <td>7</td>\n",
       "      <td>0</td>\n",
       "    </tr>\n",
       "    <tr>\n",
       "      <th>3</th>\n",
       "      <td>4</td>\n",
       "      <td>6</td>\n",
       "      <td>-1</td>\n",
       "    </tr>\n",
       "    <tr>\n",
       "      <th>4</th>\n",
       "      <td>5</td>\n",
       "      <td>6</td>\n",
       "      <td>-1</td>\n",
       "    </tr>\n",
       "    <tr>\n",
       "      <th>5</th>\n",
       "      <td>6</td>\n",
       "      <td>6</td>\n",
       "      <td>-1</td>\n",
       "    </tr>\n",
       "    <tr>\n",
       "      <th>6</th>\n",
       "      <td>7</td>\n",
       "      <td>5</td>\n",
       "      <td>-2</td>\n",
       "    </tr>\n",
       "    <tr>\n",
       "      <th>7</th>\n",
       "      <td>8</td>\n",
       "      <td>8</td>\n",
       "      <td>1</td>\n",
       "    </tr>\n",
       "    <tr>\n",
       "      <th>8</th>\n",
       "      <td>9</td>\n",
       "      <td>8</td>\n",
       "      <td>1</td>\n",
       "    </tr>\n",
       "    <tr>\n",
       "      <th>9</th>\n",
       "      <td>10</td>\n",
       "      <td>7</td>\n",
       "      <td>0</td>\n",
       "    </tr>\n",
       "    <tr>\n",
       "      <th>10</th>\n",
       "      <td>11</td>\n",
       "      <td>2</td>\n",
       "      <td>-5</td>\n",
       "    </tr>\n",
       "    <tr>\n",
       "      <th>11</th>\n",
       "      <td>12</td>\n",
       "      <td>10</td>\n",
       "      <td>3</td>\n",
       "    </tr>\n",
       "    <tr>\n",
       "      <th>12</th>\n",
       "      <td>13</td>\n",
       "      <td>5</td>\n",
       "      <td>-2</td>\n",
       "    </tr>\n",
       "    <tr>\n",
       "      <th>13</th>\n",
       "      <td>14</td>\n",
       "      <td>7</td>\n",
       "      <td>0</td>\n",
       "    </tr>\n",
       "    <tr>\n",
       "      <th>14</th>\n",
       "      <td>15</td>\n",
       "      <td>9</td>\n",
       "      <td>2</td>\n",
       "    </tr>\n",
       "  </tbody>\n",
       "</table>\n",
       "</div>"
      ],
      "text/plain": [
       "    gegeven1  gegeven2  deviatie\n",
       "0          1        10         3\n",
       "1          2         9         2\n",
       "2          3         7         0\n",
       "3          4         6        -1\n",
       "4          5         6        -1\n",
       "5          6         6        -1\n",
       "6          7         5        -2\n",
       "7          8         8         1\n",
       "8          9         8         1\n",
       "9         10         7         0\n",
       "10        11         2        -5\n",
       "11        12        10         3\n",
       "12        13         5        -2\n",
       "13        14         7         0\n",
       "14        15         9         2"
      ]
     },
     "execution_count": 77,
     "metadata": {},
     "output_type": "execute_result"
    }
   ],
   "source": [
    "df = pd.DataFrame({\"gegeven1\": [1,2,3,4,5,6,7,8,9,10,11,12,13,14,15],\n",
    "                \"gegeven2\": [10,9,7,6,6,6,5,8,8,7,2,10,5,7,9],\n",
    "                 \"deviatie\": [3,2,0,-1,-1,-1,-2,1,1,0,-5,3,-2,0,2]})\n",
    "df"
   ]
  },
  {
   "attachments": {},
   "cell_type": "markdown",
   "metadata": {},
   "source": [
    "We zouden nu de gemiddelde deviatie kunnen berekenen. \n",
    "Dan berekenen we de gemiddelde afstand van de gegevens tot het gemiddelde. \n",
    "\n",
    "We zien echter dat dit gemiddelde gelijk is aan \n",
    "\n",
    "(Xi - µ)/n = (3+2+0-1-1-1-2+1+1+0-5+3-2+0+2)/15=0\n",
    "\n",
    "Hoewel er sprake is van een zekere spreiding, bekomen we als resultaat 0. \n",
    "Dit is dus geen goede manier om iets te zeggen over de spreiding van de gegevens. \n",
    "\n",
    "Het probleem hier is dat de positieve en negatieve getallen elkaar opheffen.\n",
    "\n",
    "Een manier om dit te voorkomen is om het gemiddelde te nemen van de absolute waarden van de deviaties, maar absolute waarden zijn niet altijd even handig om te gebruiken.\n",
    "De moeilijkheden met de positieve en negatieve deviaties kunnen ook vermeden worden door de deviaties te kwadrateren:\n"
   ]
  },
  {
   "cell_type": "code",
   "execution_count": 80,
   "metadata": {},
   "outputs": [
    {
     "data": {
      "text/html": [
       "<div>\n",
       "<style scoped>\n",
       "    .dataframe tbody tr th:only-of-type {\n",
       "        vertical-align: middle;\n",
       "    }\n",
       "\n",
       "    .dataframe tbody tr th {\n",
       "        vertical-align: top;\n",
       "    }\n",
       "\n",
       "    .dataframe thead th {\n",
       "        text-align: right;\n",
       "    }\n",
       "</style>\n",
       "<table border=\"1\" class=\"dataframe\">\n",
       "  <thead>\n",
       "    <tr style=\"text-align: right;\">\n",
       "      <th></th>\n",
       "      <th>gegeven1</th>\n",
       "      <th>gegeven2</th>\n",
       "      <th>Xi-µ</th>\n",
       "      <th>(Xi-µ)²</th>\n",
       "    </tr>\n",
       "  </thead>\n",
       "  <tbody>\n",
       "    <tr>\n",
       "      <th>0</th>\n",
       "      <td>1</td>\n",
       "      <td>10</td>\n",
       "      <td>3</td>\n",
       "      <td>9</td>\n",
       "    </tr>\n",
       "    <tr>\n",
       "      <th>1</th>\n",
       "      <td>2</td>\n",
       "      <td>9</td>\n",
       "      <td>2</td>\n",
       "      <td>4</td>\n",
       "    </tr>\n",
       "    <tr>\n",
       "      <th>2</th>\n",
       "      <td>3</td>\n",
       "      <td>7</td>\n",
       "      <td>0</td>\n",
       "      <td>0</td>\n",
       "    </tr>\n",
       "    <tr>\n",
       "      <th>3</th>\n",
       "      <td>4</td>\n",
       "      <td>6</td>\n",
       "      <td>-1</td>\n",
       "      <td>1</td>\n",
       "    </tr>\n",
       "    <tr>\n",
       "      <th>4</th>\n",
       "      <td>5</td>\n",
       "      <td>6</td>\n",
       "      <td>-1</td>\n",
       "      <td>1</td>\n",
       "    </tr>\n",
       "    <tr>\n",
       "      <th>5</th>\n",
       "      <td>6</td>\n",
       "      <td>6</td>\n",
       "      <td>-1</td>\n",
       "      <td>1</td>\n",
       "    </tr>\n",
       "    <tr>\n",
       "      <th>6</th>\n",
       "      <td>7</td>\n",
       "      <td>5</td>\n",
       "      <td>-2</td>\n",
       "      <td>4</td>\n",
       "    </tr>\n",
       "    <tr>\n",
       "      <th>7</th>\n",
       "      <td>8</td>\n",
       "      <td>8</td>\n",
       "      <td>1</td>\n",
       "      <td>1</td>\n",
       "    </tr>\n",
       "    <tr>\n",
       "      <th>8</th>\n",
       "      <td>9</td>\n",
       "      <td>8</td>\n",
       "      <td>1</td>\n",
       "      <td>1</td>\n",
       "    </tr>\n",
       "    <tr>\n",
       "      <th>9</th>\n",
       "      <td>10</td>\n",
       "      <td>7</td>\n",
       "      <td>0</td>\n",
       "      <td>0</td>\n",
       "    </tr>\n",
       "    <tr>\n",
       "      <th>10</th>\n",
       "      <td>11</td>\n",
       "      <td>2</td>\n",
       "      <td>-5</td>\n",
       "      <td>25</td>\n",
       "    </tr>\n",
       "    <tr>\n",
       "      <th>11</th>\n",
       "      <td>12</td>\n",
       "      <td>10</td>\n",
       "      <td>3</td>\n",
       "      <td>9</td>\n",
       "    </tr>\n",
       "    <tr>\n",
       "      <th>12</th>\n",
       "      <td>13</td>\n",
       "      <td>5</td>\n",
       "      <td>-2</td>\n",
       "      <td>4</td>\n",
       "    </tr>\n",
       "    <tr>\n",
       "      <th>13</th>\n",
       "      <td>14</td>\n",
       "      <td>7</td>\n",
       "      <td>0</td>\n",
       "      <td>0</td>\n",
       "    </tr>\n",
       "    <tr>\n",
       "      <th>14</th>\n",
       "      <td>15</td>\n",
       "      <td>9</td>\n",
       "      <td>2</td>\n",
       "      <td>4</td>\n",
       "    </tr>\n",
       "  </tbody>\n",
       "</table>\n",
       "</div>"
      ],
      "text/plain": [
       "    gegeven1  gegeven2  Xi-µ  (Xi-µ)²\n",
       "0          1        10     3        9\n",
       "1          2         9     2        4\n",
       "2          3         7     0        0\n",
       "3          4         6    -1        1\n",
       "4          5         6    -1        1\n",
       "5          6         6    -1        1\n",
       "6          7         5    -2        4\n",
       "7          8         8     1        1\n",
       "8          9         8     1        1\n",
       "9         10         7     0        0\n",
       "10        11         2    -5       25\n",
       "11        12        10     3        9\n",
       "12        13         5    -2        4\n",
       "13        14         7     0        0\n",
       "14        15         9     2        4"
      ]
     },
     "execution_count": 80,
     "metadata": {},
     "output_type": "execute_result"
    }
   ],
   "source": [
    "df = pd.DataFrame({\"gegeven1\": [1,2,3,4,5,6,7,8,9,10,11,12,13,14,15],\n",
    "                \"gegeven2\": [10,9,7,6,6,6,5,8,8,7,2,10,5,7,9],\n",
    "                 \"Xi-µ\": [3,2,0,-1,-1,-1,-2,1,1,0,-5,3,-2,0,2],\n",
    "                  \"(Xi-µ)²\": [9,4,0,1,1,1,4,1,1,0,25,9,4,0,4]})\n",
    "df"
   ]
  },
  {
   "cell_type": "markdown",
   "metadata": {},
   "source": [
    "Wanneer we nu het gemiddelde nemen van deze laatste kolom, de kwadraten van de deviaties, dan bekomen we:\n",
    "\n",
    "(Xi-µ)²/n =4.27\n",
    "\n",
    "Dit getal zegt iets over de spreiding van de gegevens. Immers, hoe verder de gegevens uit elkaar liggen, hoe groter de deviaties, hoe groter de kwadraten van de deviaties en hoe groter de variantie.\n",
    "Meestal wordt niet gewerkt met de variantie, maar met de standaarddeviatie of standaardafwijking.\n",
    "\n",
    "De standaarddeviatie σ (sigma) van een reeks gegevens is gelijk aan de positieve vierkantswortel van de variantie:\n",
    "\n"
   ]
  },
  {
   "cell_type": "code",
   "execution_count": 83,
   "metadata": {},
   "outputs": [
    {
     "name": "stdout",
     "output_type": "stream",
     "text": [
      "2.07\n"
     ]
    }
   ],
   "source": [
    "import math\n",
    "\n",
    "σ = round(math.sqrt(4.27),2)\n",
    "print(σ)"
   ]
  },
  {
   "cell_type": "markdown",
   "metadata": {},
   "source": [
    "Wanneer we met een steekproef werken, dan gebruiken we s² voor de steekproefvariantie en voor de standaarddeviatie van de steekproef s. \n",
    "We maken dan ook gebruik van het steekproefgemiddelde      in onze berekeningen.\n",
    "\n",
    "Opmerking:\n",
    "De voorgaande formules gelden enkel als we werken met een populatie, of met een steekproef die voldoende groot is (n ≥ 30). Anders eranderen de formules (n < 30) in\n",
    "\n"
   ]
  },
  {
   "attachments": {},
   "cell_type": "markdown",
   "metadata": {},
   "source": [
    "OPDRACHTEN\n",
    "Gegeven is de volgende rij gegevens, getrokken uit een populatie.\n",
    "51 50 47 50 48 41 59 68 45 37\n",
    "(a) Gemiddelde\n",
    "(b) Mediaan\n",
    "(c) Modus\n",
    "(d) Bereik\n",
    "(e) Variantie\n",
    "(f) Standaarddeviatie\n",
    "(g) Interkwartielafstand\n",
    "(h) Boxplot"
   ]
  },
  {
   "cell_type": "code",
   "execution_count": 100,
   "metadata": {},
   "outputs": [
    {
     "name": "stdout",
     "output_type": "stream",
     "text": [
      "gemiddelde:  49.6\n",
      "mediaan:  49.0\n",
      "bereik:  31\n"
     ]
    },
    {
     "data": {
      "text/plain": [
       "{'whiskers': [<matplotlib.lines.Line2D at 0x16489c96b00>,\n",
       "  <matplotlib.lines.Line2D at 0x16489c96f28>],\n",
       " 'caps': [<matplotlib.lines.Line2D at 0x16489c96fd0>,\n",
       "  <matplotlib.lines.Line2D at 0x16489c9f7b8>],\n",
       " 'boxes': [<matplotlib.lines.Line2D at 0x16489c965c0>],\n",
       " 'medians': [<matplotlib.lines.Line2D at 0x16489c9fba8>],\n",
       " 'fliers': [<matplotlib.lines.Line2D at 0x16489c9ffd0>],\n",
       " 'means': []}"
      ]
     },
     "execution_count": 100,
     "metadata": {},
     "output_type": "execute_result"
    },
    {
     "data": {
      "image/png": "[encoded data removed]",
      "text/plain": [
       "<Figure size 432x288 with 1 Axes>"
      ]
     },
     "metadata": {
      "needs_background": "light"
     },
     "output_type": "display_data"
    }
   ],
   "source": [
    "import statistics\n",
    "import numpy as np\n",
    "import matplotlib.pyplot as plt\n",
    "populatie=[51, 50, 47, 50, 48, 41, 59, 68, 45, 37]\n",
    "\n",
    "gemiddelde = sum(populatie)/len(populatie)\n",
    "print(\"gemiddelde: \",gemiddelde)\n",
    "\n",
    "populatie.sort()\n",
    "print(\"mediaan: \",statistics.median(populatie))\n",
    "\n",
    "bereik=max(populatie)-min(populatie)\n",
    "print(\"bereik: \",bereik)\n",
    " \n",
    "\n",
    "import numpy as np\n",
    "import matplotlib.pyplot as plt\n",
    "\n",
    "fig1, ax = plt.subplots()\n",
    "\n",
    "ax.boxplot(populatie, vert=False)"
   ]
  },
  {
   "attachments": {},
   "cell_type": "markdown",
   "metadata": {},
   "source": [
    "Correlatie en regressie!\n",
    "Bij het bestuderen van samenhang tussen variabelen \u000b",
    "\u000b",
    " maakt men een onderscheid tussen:\n",
    "variabelen die beide (min of meer) door het toeval bepaald worden\n",
    "=> samenhang aangeduid met correlatie\n",
    "variabelen waarbij er een onafhankelijke variabele en een afhankelijke variabele een rol speelt\n",
    "=> samenhang aangeduid met regressie \n",
    "\n",
    "Zowel correlatie als regressie meten statistische samenhang\n",
    "• Correlatie: geen oorzakelijk verband verondersteld: \n",
    "\t\tX ↔ Y \n",
    "• Regressie: wel een oorzakelijk verband verondersteld:\n",
    "\t\tX → Y \n"
   ]
  },
  {
   "attachments": {},
   "cell_type": "markdown",
   "metadata": {},
   "source": [
    "Correlatie!\n",
    "Er kan bijvoorbeeld gekeken worden naar het verband tussen het aantal verkochte blikken erwtensoep op een dag en de gemiddelde temperatuur op die dag. \n",
    "\n",
    "Of het verband tussen het aantal uur dat iemand voor een proefwerk heeft geleerd en het uiteindelijk behaalde punt voor dat proefwerk. \n",
    "\n",
    "\n",
    "Het zal duidelijk zijn dat het verband in het ene geval sterker zal zijn dan in het andere geval. In de statistiek bestaat er een maat voor de sterkte van een verband tussen twee grootheden. \n",
    "Dit is de correlatie. \n",
    "\n",
    "De mate van correlatie komt tot uitdrukking in de mate waarin de puntenwolk naar een lijn, de zogenaamde centrale lijn, neigt. \n",
    "Verder kan er ook een regressielijn bepaald worden. Met behulp van deze regressielijn, kun je bij gegeven x-waarden voorspellingen doen over de y-waarden. (zie later)  \n"
   ]
  },
  {
   "attachments": {},
   "cell_type": "markdown",
   "metadata": {},
   "source": [
    "De mate van correlatie\n",
    "\n",
    "Noem μx het gemiddelde van alle gegeven x-waarden en µy het gemiddelde van alle gegeven y-waarden. \n",
    "Het punt (µx, µy) wordt dan het centrale punt van de puntenwolk behorende bij deze x- en y-waarden genoemd. \n",
    "De centrale lijn van de puntenwolk gaat door het centrale punt en heeft richtingscoëfficiënt σy /σx\u000b",
    "\u000b",
    "σx  (sigma x) is hier de standaarddeviatie van x en σy (sigma y) de standaarddeviatie van y. \n",
    "De mate van correlatie hangt nu af van de mate waarop de punten van een puntenwolk zich verdringen om de centrale lijn. \u000b",
    "Er kan sprake zijn van volledige correlatie, gedeeltelijke correlatie of geen correlatie. \n",
    "\n",
    "Bij volledige correlatie liggen alle punten van de puntenwolk op de centrale lijn. \n",
    "Bij gedeeltelijke correlatie vormen de punten in het spreidingsdiagram een puntenwolk waarvan de tendens kan worden aangegeven door de centrale lijn. \n"
   ]
  },
  {
   "attachments": {},
   "cell_type": "markdown",
   "metadata": {},
   "source": [
    "Positieve of negatieve correlatie!\n",
    "Naast de mate van correlatie tussen twee grootheden kan er ook onderzocht worden of er sprake is van positieve of negatieve correlatie.\n",
    "\n",
    "Twee grootheden kunnen elkaar op verschillende manieren beïnvloeden. \n",
    "\n",
    "Als we kijken naar het verband tussen het aantal verkochte ijsjes op een dag en de gemiddelde temperatuur op die dag, \u000b",
    "dan zullen we zien dat bij een hoge gemiddelde dagtemperatuur over het algemeen meer ijsjes verkocht worden dan bij een lage gemiddelde dagtemperatuur. \n",
    "=> Een positieve correlatie (een vermeerdering van de ene grootheid heeft een vermeerdering van de andere grootheid tot gevolg)\n",
    "\n",
    "\n",
    "Kijken we echter naar het verband tussen het aantal verkochte blikken erwtensoep op een dag en de gemiddelde temperatuur op die dag, dan zullen we zien dat bij een hoge gemiddelde dagtemperatuur over het algemeen minder blikken erwtensoep verkocht worden dan bij een lage gemiddelde dagtemperatuur. \n",
    "=> Een negatieve correlatie (een vermeerdering van de ene grootheid heeft een vermindering van de andere grootheid tot gevolg)\n"
   ]
  },
  {
   "attachments": {},
   "cell_type": "markdown",
   "metadata": {},
   "source": [
    "Aan de hand van een spreidingsdiagram kunnen we dus zien of er sprake is van correlatie tussen twee grootheden en of dat dan positieve of negatieve correlatie is. \n",
    "\n",
    "De mate van correlatie tussen twee grootheden kan echter ook worden uitgedrukt in een getal. \n",
    "Dit getal noemen we de correlatiecoëfficiënt."
   ]
  },
  {
   "attachments": {},
   "cell_type": "markdown",
   "metadata": {},
   "source": [
    "De correlatiecoëfficiënt is een getal dat de mate van correlatie tussen twee grootheden of variabelen aangeeft. \n",
    "\n",
    "Dit getal wordt aangeduid met de letter R en ligt tussen -1 en +1. \n",
    "\n",
    "In de grensgevallen R = -1 en R = +1 is er sprake van volledige correlatie. \n",
    "\n",
    "Bij R = -1 is dat volledige negatieve correlatie en \n",
    "bij R = +1 volledige positieve correlatie. \n",
    "\n",
    "Als er geen sprake is van enige correlatie, dan geldt R = 0. \n",
    "\n",
    "Berekening van de correlatiecoëfficiënt: \n",
    "Stel dat het verband tussen twee grootheden x en y wordt onderzocht en dat er n punten (xi, yi) gegeven zijn. \n",
    "\n",
    "Voor de correlatiecoëfficiënt geldt dan: \n",
    " \n",
    "R(x,y)=Cov(x,y)/σx*σy\n",
    "\n",
    "Hier staat Cov(x, y) voor de covariantie van x en y. \n",
    "\n",
    "De covariantie\n",
    "De covariantie is een maat voor de spreiding van twee gekoppelde variabelen. De covariantie van x en y wordt aangeduid met Cov(x, y). Als Cov(x, y) een positief getal is, dan is er sprake van positieve correlatie en als Cov(x, y) een negatief getal is, dan is er sprake van negatieve correlatie. Als er geen sprake is van enige correlatie, dan geldt Cov(x, y) = 0. \n",
    "\n",
    "Laat een koppeling tussen twee variabelen x en y gegeven zijn door n punten (xi, yi).\n",
    "\n",
    "De covariantie\n",
    "Laat een koppeling tussen twee variabelen x en y gegeven zijn door n punten (xi, yi).\n",
    "\n",
    "De berekening van de covariantie gaat dan als volgt: \n",
    "Bereken het gemiddelde µx van de x-waarden en het gemiddelde µy van de y-waarden.\n",
    "Bereken voor elk getal xi de deviatie dxi = xi - µx en bereken voor elk getal yi de deviatie dyi = yi - µy.\n",
    "Bereken de producten van de deviaties, dus (xi - µx )(yi - µy ).\n",
    "Bereken het gemiddelde van die producten.\n",
    "Dus:\n",
    "\n",
    "Cov(x,y)=((Xi-µx)*(Yi-µy))/n\n",
    "\n",
    "Voorbeeld van het berekenen van de covariantie\n",
    "Berekening van de covariantie van de punten (3, 15), (4, 25), (9, 20), (12, 30) en (17, 35): \n",
    "Berekening van het gemiddelde van de x- en van de y-waarden:\n",
    "\n",
    "µx=(3+4+9+12+17)/5=9\n",
    "\n",
    "µy=(15+25+20+30+35)/5=25\n",
    "\n",
    "Berekening van de deviaties van de x- en van de y-waarden:\n",
    "\n",
    "dxi = xi - µx, dus de deviaties van de x-waarden zijn -6, -5, 0, 3, 8\n",
    "dyi = yi - µy, dus de deviaties van de y-waarden zijn -10, 0, -5, 5, 10\n",
    "\n",
    "Berekening van de produkten (xi - µx) (yi - µy) van de deviaties:\n",
    "\tDe producten zijn achtereenvolgens 60, 0, 0, 15, 80\n",
    "\n",
    "Voorbeeld van het berekenen van de covariantie\n",
    "Berekening van de covariantie van de punten (3, 15), (4, 25), (9, 20), (12, 30) en (17, 35): \n",
    "\n",
    "Berekening van het gemiddelde van die produkten:\n",
    " \n",
    " Cov(x,y)=(60+0+0+15+80)/5=31\n",
    "\n",
    "De covariantie is dus 31. \n"
   ]
  },
  {
   "attachments": {},
   "cell_type": "markdown",
   "metadata": {},
   "source": [
    "Correlatie is géén causaliteit\n",
    "Stel: Een onderzoek merkt een significante correlatie tussen de stijging van ijsverkoop en het aantal verdrinkingen op. \n",
    "Een journalist schrijft hier vervolgens een artikel over met de pakkende kop: ‘Meer ijsverkoop leidt tot meer verdrinkingen’.\n",
    "\n",
    "\n",
    "Dit is een typisch voorbeeld waarbij er wel een correlatie aanwezig is, maar waarbij er geen sprake van een causaal verband is: als er meer ijsjes worden verkocht (variabele X) dan stijgt het aantal verdrinkingen (variabele Y).\n",
    "\n"
   ]
  },
  {
   "attachments": {},
   "cell_type": "markdown",
   "metadata": {},
   "source": [
    "Het is echter veel aannemelijker dat we een derde variabele, een zogenaamde ‘confouding variabele’, over het hoofd hebben gezien.\n",
    " \n",
    "Een confounding variabele is een variabele buiten het bestaande model, die (positief of negatief) correleert met zowel de afhankelijke als de onafhankelijke variabele. \n",
    "In dit specifieke voorbeeld is dat de buitentemperatuur (variabele Z). \n",
    "\n",
    "Als het namelijk lekker warm weer buiten is (i.e. hoge temperatuur), dan zal er meer ijs verkocht worden en zullen er meer mensen gaan zwemmen, wat tot een hoger aantal verdrinkingen zal leiden in vergelijking met wanneer het koud buiten is (e.g. winter). \n"
   ]
  },
  {
   "attachments": {},
   "cell_type": "markdown",
   "metadata": {},
   "source": [
    "Wanneer bestaat er een verband tussen twee statistische variabelen? \n",
    "En kun je dan met zo'n verband tussen twee variabelen ook voorspellingen doen? \n",
    "Met andere woorden kun je een formule vinden die het verband beschrijft?\n",
    "\n",
    "Als je een correlatietechniek toepast, ben je geïnteresseerd in de mate van samenhang tussen twee variabelen X en Y, bijvoorbeeld een onderzoek naar de samenhang tussen leeftijd en scores op een kennis-test. \n",
    "\n",
    "Met lineaire regressie ga je een stap verder. Met deze techniek probeer je de waarden van de uitkomst Y via een lineair verband te voorspellen uit die van X. \n",
    "De uitkomstvariabele Y wordt de afhankelijke variabele genoemd, en de voorspeller X de onafhankelijke variabele. \n"
   ]
  },
  {
   "attachments": {},
   "cell_type": "markdown",
   "metadata": {},
   "source": [
    "ENKELVOUDIGE LINEAIRE REGRESSIE\n",
    "Voorbeeld\n",
    "We starten met een voorbeeld:\n",
    "Veronderstel dat je y meet op vijf verschillende niveaus van x. \n",
    "De gemeten waarden van y zijn weergegeven in een tabel. Om een indruk te krijgen van een mogelijk verband tussen x en y, maken we er een grafiek bij. "
   ]
  },
  {
   "cell_type": "code",
   "execution_count": 114,
   "metadata": {},
   "outputs": [
    {
     "data": {
      "image/png": "[encoded data removed]",
      "text/plain": [
       "<Figure size 432x288 with 1 Axes>"
      ]
     },
     "metadata": {
      "needs_background": "light"
     },
     "output_type": "display_data"
    }
   ],
   "source": [
    "import matplotlib.pyplot as plt\n",
    "plt.plot([1,2,3,4,5],[2,4,6,8,10])\n",
    "plt.ylabel('some numbers')\n",
    "plt.show()"
   ]
  },
  {
   "attachments": {},
   "cell_type": "markdown",
   "metadata": {},
   "source": [
    "Wat is een regressielijn?\n",
    "Zoals je ziet liggen ook in ons voorbeeld de meetpunten niet precies op een lijn. \n",
    "Het is dus onmogelijk om een lijn te vinden die door alle punten gaat.\n",
    "Omdat de punten wel \"ongeveer\" op een lijn liggen, kan het interessant zijn om de lijn te zoeken die \"zo goed mogelijk\" bij het patroon van de punten past. \n",
    "Deze lijn noemen we de regressielijn of het regressiemodel. \n"
   ]
  },
  {
   "attachments": {},
   "cell_type": "markdown",
   "metadata": {},
   "source": [
    "Wat is een regressielijn?\n",
    "Voordat we deze regressielijn kunnen gaan bepalen, moeten we weten wat we eigenlijk verstaan onder een \"zo goed mogelijke\" lijn. \n",
    "In de grafiek kan je zien dat de lijn door vrijwel geen van de meetpunten gaat. \n",
    "Er treedt dus meestal een afwijking op tussen de y die we hebben gemeten en de y die we verkrijgen uit ons regressiemodel. \n",
    "Het lijkt ons redelijk de lijn waarvoor de som van al deze (gekwadrateerde) afwijkingen het kleinst is, als de \"beste\" lijn te beschouwen(= de “kleinste-kwadratenmethode”). \n"
   ]
  },
  {
   "attachments": {},
   "cell_type": "markdown",
   "metadata": {},
   "source": [
    "Hoe bepaal je een regressielijn y=ax+b?\n",
    "voor de regressierechte y=ax+b door de punten (x1,y1),(x2,y2),...(xn,yn) geldt:\n",
    "\n",
    "a=Sxy/Sx²\n",
    "\n",
    "\n",
    "bepaal µx (het gemiddelde van alle ingestelde x-waarden)\n",
    "\n",
    "bepaal µy (het gemiddelde van alle gemeten y-waarden)\n",
    "\n",
    "bepaal van alle x-waarden het gekwadrateerde verschil met µx en tel ze op (de uitkomst noemen we Sx2 of Sxx)\n",
    "\n",
    "bepaal van alle y-waarden het verschil met µy. Bepaal hierna het produkt van dit verschil met de bijbehorende x - µx en tel ze op (de uitkomst noemen we Sxy)\n",
    "\n",
    "bepaal Sxy / Sxx (= a, de richtingscoëfficiënt van de regressielijn)\n",
    "\n",
    "bepaal µy - a . µx (= b, het startgetal van de regressielijn)"
   ]
  },
  {
   "attachments": {},
   "cell_type": "markdown",
   "metadata": {},
   "source": [
    "Van het eerder genoemde voorbeeldje met vijf meetpunten gaan we nu de regressielijn bepalen. \n",
    "\n",
    "We vinden:\n",
    "\n",
    "µx = (1 + 2 + 3 + 4 + 5) / 5 = 3.0\n",
    "µy = (2 + 5 + 6 + 11 + 13) / 5 = 7.4\n",
    "Sxx = (1 - 3)2 + (2 - 3)2 + (3 - 3)2 + (4 - 3)2 + (5 - 3)2 = 10.0\n",
    "Sxy = (2 – 7.4) (1 - 3) + (5 - 7.4) (2 - 3) + (6 – 7.4) (3 - 3) + (11 – 7.4) (4 - 3) + (13 – 7.4) (5 - 3) = 28\n",
    "\n",
    "De schattingen voor a en b worden dus :\n",
    "a = Sxy / Sxx = 28.0 / 10.0 = 2.8\n",
    "b = µy - a . µx  = 7.4 - 2.8 * 3.0 = -1.0\n",
    "\n",
    "De regressielijn wordt dus:\n",
    "y = 2.8x - 1.0\n",
    "\n",
    "De regressielijn y=ax+b of\n",
    "\n",
    "waarde van afhankelijke variabele = regressiecoëfficiënt β x waarde van onafhankelijke variabele + intercept\n",
    "\n",
    "De regressiecoëfficiënt ß geeft aan in welke mate de waarde van een afhankelijke variabele gemiddeld zal veranderen wanneer de waarde van de onafhankelijke (of voorspellende of verklarende) variabele verandert \n",
    "\n",
    "y=βx+b\n",
    "\n",
    "De waarde van de intercept kan men bepalen door de onafhankelijke variabele de waarde nul te geven"
   ]
  },
  {
   "attachments": {},
   "cell_type": "markdown",
   "metadata": {},
   "source": [
    "Meervoudige lineaire REGRESSIE\n",
    "\n",
    "Vaak is het zo dat men het verband zoekt tussen een afhankelijke variabele en meerdere onafhankelijke variabelen. \n",
    "\n",
    "Met een meervoudige lineaire regressieanalyse kunnen we dan voor elke onafhankelijke variabele een partiële regressiecoëfficiënt berekenen. \n",
    "\n",
    "De wiskundige formule van de regressie zal er dan als volgt uitzien:\n",
    "waarde van afhankelijke variabele \n",
    "= intercept + \n",
    "regressiecoëfficiënt ß1 x waarde van onafhankelijke variabele1 + \n",
    "regressiecoëfficiënt ß2 x waarde van onafhankelijke variabele2 +\n",
    " … + \n",
    "regressiecoëfficiënt ßn x waarde van onafhankelijke variabelen\n"
   ]
  },
  {
   "attachments": {},
   "cell_type": "markdown",
   "metadata": {},
   "source": [
    "Opdracht1 Regressie\n",
    "\n",
    "We bekijken de volgende data van het gewicht en het voetoppervlak van 20 Zuid-Amerikaanse slakken van de soort Biomphalaria Glabrata. \n",
    "\n",
    "gewicht\n",
    "g=[0.64,0.21,0.85,0.53,0.02,0.01,0.21,0.18,0.06,0.2,0.07,0.01,0.05,0.81,0.53,0.18,0.06,0.2,0.07,0.01]\n",
    "\n",
    "voetopp\n",
    "v=[29,16,35,25,4,1,16,20,7,13,7,3,10,35,25,20,7,13,7,1]\n",
    "\n",
    "\n",
    "\n",
    "Wanneer we van deze gegevens het spreidingsdiagram tekenen, bekomen we de volgende grafiek: \n",
    "\n",
    "De punten op het spreidingsdiagram liggen duidelijk zeer dicht bij een rechte lijn. We zeggen dat er een benaderend lineair verband is tussen het gewicht en het voetoppervlak van de slakken. \n",
    "Welk soort correlatie is er hier? \n"
   ]
  },
  {
   "cell_type": "code",
   "execution_count": 122,
   "metadata": {},
   "outputs": [
    {
     "data": {
      "image/png": "[encoded data removed]",
      "text/plain": [
       "<Figure size 432x288 with 1 Axes>"
      ]
     },
     "metadata": {},
     "output_type": "display_data"
    }
   ],
   "source": [
    "%matplotlib inline\n",
    "import matplotlib.pyplot as plt\n",
    "plt.style.use('seaborn-whitegrid')\n",
    "import numpy as np\n",
    "\n",
    "x = [0.64,0.21,0.85,0.53,0.02,0.01,0.21,0.18,0.06,0.2,0.07,0.01,0.05,0.81,0.53,0.18,0.06,0.2,0.07,0.01]\n",
    "y = [29,16,35,25,4,1,16,20,7,13,7,3,10,35,25,20,7,13,7,1]\n",
    "\n",
    "plt.plot(x, y, 'o', color='black');"
   ]
  },
  {
   "cell_type": "markdown",
   "metadata": {},
   "source": [
    "Bepaal de regressierechte. Voer vervolgens de volgende voorspellingen uit:\n",
    "Kan je voorspellen hoe groot het voetoppervlak ongeveer zal zijn van een slak die 0.4 g weegt? \n",
    "Kan je voorspellen hoeveel een slak, met voetoppervlak 31 mm2, ongeveer weegt? \n",
    "\n"
   ]
  },
  {
   "cell_type": "code",
   "execution_count": 125,
   "metadata": {},
   "outputs": [
    {
     "data": {
      "text/plain": [
       "[<matplotlib.lines.Line2D at 0x16489b852b0>,\n",
       " <matplotlib.lines.Line2D at 0x16489b7a5c0>]"
      ]
     },
     "execution_count": 125,
     "metadata": {},
     "output_type": "execute_result"
    },
    {
     "data": {
      "image/png": "[encoded data removed]",
      "text/plain": [
       "<Figure size 432x288 with 1 Axes>"
      ]
     },
     "metadata": {
      "needs_background": "light"
     },
     "output_type": "display_data"
    }
   ],
   "source": [
    "%matplotlib inline\n",
    "import matplotlib.pyplot as plt\n",
    "from pylab import polyfit, poly1d\n",
    "import numpy as np\n",
    "\n",
    "x = [0.64,0.21,0.85,0.53,0.02,0.01,0.21,0.18,0.06,0.2,0.07,0.01,0.05,0.81,0.53,0.18,0.06,0.2,0.07,0.01]\n",
    "y = [29,16,35,25,4,1,16,20,7,13,7,3,10,35,25,20,7,13,7,1]\n",
    "\n",
    "fit = polyfit(x, y, 1)\n",
    "fit_fn = poly1d(fit)\n",
    "plt.plot(x,y, '*', x, fit_fn(x), 'k')\n"
   ]
  },
  {
   "cell_type": "markdown",
   "metadata": {},
   "source": [
    "van de grafiek kunnen we aflezen dat bij 0.4g wordt de voetoppervlakte 20mm².\n",
    "een slak die een voetopp van 1mm² heeft weegt ongeveer 0.65g"
   ]
  },
  {
   "attachments": {},
   "cell_type": "markdown",
   "metadata": {},
   "source": [
    "Opdracht2 Regressie \n",
    "De leeftijd en bloeddruk van tien gezonde mannen zijn als volgt :\n",
    "man\n",
    "m=[1,2,3,4,5,6,7,8,9,10]\n",
    "leeftijd\n",
    "X=[22,29,35,40,46,51,56,63,67,77]\n",
    "bloeddruk\n",
    "Y=[131,123,121,147,137,144,145,155,176,178]\n",
    "\n",
    "Bereken de regressierechte van de bloeddruk in functie van de leeftijd.  \n",
    "Wat is de verwachte bloeddruk van een 45 jaar oude man? \n",
    "\n"
   ]
  },
  {
   "cell_type": "code",
   "execution_count": 126,
   "metadata": {},
   "outputs": [
    {
     "data": {
      "text/plain": [
       "[<matplotlib.lines.Line2D at 0x164886cf2b0>,\n",
       " <matplotlib.lines.Line2D at 0x164886cfda0>]"
      ]
     },
     "execution_count": 126,
     "metadata": {},
     "output_type": "execute_result"
    },
    {
     "data": {
      "image/png": "[encoded data removed]",
      "text/plain": [
       "<Figure size 432x288 with 1 Axes>"
      ]
     },
     "metadata": {
      "needs_background": "light"
     },
     "output_type": "display_data"
    }
   ],
   "source": [
    "%matplotlib inline\n",
    "import matplotlib.pyplot as plt\n",
    "from pylab import polyfit, poly1d\n",
    "import numpy as np\n",
    "\n",
    "x = [22,29,35,40,46,51,56,63,67,77]\n",
    "y = [131,123,121,147,137,144,145,155,176,178]\n",
    "\n",
    "fit = polyfit(x, y, 1)\n",
    "fit_fn = poly1d(fit)\n",
    "plt.plot(x,y, '*', x, fit_fn(x), 'k')"
   ]
  },
  {
   "cell_type": "markdown",
   "metadata": {},
   "source": [
    "de verwachte bloeddruk van een 45 jaar oude man is 145"
   ]
  },
  {
   "attachments": {},
   "cell_type": "markdown",
   "metadata": {},
   "source": [
    "NORMAALVERDELING"
   ]
  },
  {
   "cell_type": "markdown",
   "metadata": {},
   "source": [
    "Een discrete kansvariabele is een variabele waarbij slechts een bepaald aantal waarden mogelijk zijn. De tussenliggende waarden hebben geen betekenis.\n",
    "\n",
    "Voorbeeld\n",
    "Stel X= aantal ogen dat gegooid wordt met twee dobbelstenen. Dan weten we dat de kansverdeling er als volgt uitziet:\n",
    "\n",
    "Xi=[2,3,4,5,6,7,8,9,10,11,12]\n",
    "Pi=[1/36,2/36,3/36,4/36,5/36,6/36,5/36,4/36,3/362/36,1/36]\n"
   ]
  },
  {
   "cell_type": "code",
   "execution_count": 127,
   "metadata": {},
   "outputs": [
    {
     "ename": "ValueError",
     "evalue": "shape mismatch: objects cannot be broadcast to a single shape",
     "output_type": "error",
     "traceback": [
      "\u001b[1;31m---------------------------------------------------------------------------\u001b[0m",
      "\u001b[1;31mValueError\u001b[0m                                Traceback (most recent call last)",
      "\u001b[1;32m<ipython-input-127-7a5df572488d>\u001b[0m in \u001b[0;36m<module>\u001b[1;34m()\u001b[0m\n\u001b[0;32m      8\u001b[0m \u001b[1;33m\u001b[0m\u001b[0m\n\u001b[0;32m      9\u001b[0m \u001b[1;31m# Create bars\u001b[0m\u001b[1;33m\u001b[0m\u001b[1;33m\u001b[0m\u001b[0m\n\u001b[1;32m---> 10\u001b[1;33m \u001b[0mplt\u001b[0m\u001b[1;33m.\u001b[0m\u001b[0mbar\u001b[0m\u001b[1;33m(\u001b[0m\u001b[0my_pos\u001b[0m\u001b[1;33m,\u001b[0m \u001b[0mheight\u001b[0m\u001b[1;33m)\u001b[0m\u001b[1;33m\u001b[0m\u001b[0m\n\u001b[0m\u001b[0;32m     11\u001b[0m \u001b[1;33m\u001b[0m\u001b[0m\n\u001b[0;32m     12\u001b[0m \u001b[1;31m# Create names on the x-axis\u001b[0m\u001b[1;33m\u001b[0m\u001b[1;33m\u001b[0m\u001b[0m\n",
      "\u001b[1;32m~\\Anaconda3\\lib\\site-packages\\matplotlib\\pyplot.py\u001b[0m in \u001b[0;36mbar\u001b[1;34m(*args, **kwargs)\u001b[0m\n\u001b[0;32m   2773\u001b[0m                       mplDeprecation)\n\u001b[0;32m   2774\u001b[0m     \u001b[1;32mtry\u001b[0m\u001b[1;33m:\u001b[0m\u001b[1;33m\u001b[0m\u001b[0m\n\u001b[1;32m-> 2775\u001b[1;33m         \u001b[0mret\u001b[0m \u001b[1;33m=\u001b[0m \u001b[0max\u001b[0m\u001b[1;33m.\u001b[0m\u001b[0mbar\u001b[0m\u001b[1;33m(\u001b[0m\u001b[1;33m*\u001b[0m\u001b[0margs\u001b[0m\u001b[1;33m,\u001b[0m \u001b[1;33m**\u001b[0m\u001b[0mkwargs\u001b[0m\u001b[1;33m)\u001b[0m\u001b[1;33m\u001b[0m\u001b[0m\n\u001b[0m\u001b[0;32m   2776\u001b[0m     \u001b[1;32mfinally\u001b[0m\u001b[1;33m:\u001b[0m\u001b[1;33m\u001b[0m\u001b[0m\n\u001b[0;32m   2777\u001b[0m         \u001b[0max\u001b[0m\u001b[1;33m.\u001b[0m\u001b[0m_hold\u001b[0m \u001b[1;33m=\u001b[0m \u001b[0mwashold\u001b[0m\u001b[1;33m\u001b[0m\u001b[0m\n",
      "\u001b[1;32m~\\Anaconda3\\lib\\site-packages\\matplotlib\\__init__.py\u001b[0m in \u001b[0;36minner\u001b[1;34m(ax, *args, **kwargs)\u001b[0m\n\u001b[0;32m   1865\u001b[0m                         \u001b[1;34m\"the Matplotlib list!)\"\u001b[0m \u001b[1;33m%\u001b[0m \u001b[1;33m(\u001b[0m\u001b[0mlabel_namer\u001b[0m\u001b[1;33m,\u001b[0m \u001b[0mfunc\u001b[0m\u001b[1;33m.\u001b[0m\u001b[0m__name__\u001b[0m\u001b[1;33m)\u001b[0m\u001b[1;33m,\u001b[0m\u001b[1;33m\u001b[0m\u001b[0m\n\u001b[0;32m   1866\u001b[0m                         RuntimeWarning, stacklevel=2)\n\u001b[1;32m-> 1867\u001b[1;33m             \u001b[1;32mreturn\u001b[0m \u001b[0mfunc\u001b[0m\u001b[1;33m(\u001b[0m\u001b[0max\u001b[0m\u001b[1;33m,\u001b[0m \u001b[1;33m*\u001b[0m\u001b[0margs\u001b[0m\u001b[1;33m,\u001b[0m \u001b[1;33m**\u001b[0m\u001b[0mkwargs\u001b[0m\u001b[1;33m)\u001b[0m\u001b[1;33m\u001b[0m\u001b[0m\n\u001b[0m\u001b[0;32m   1868\u001b[0m \u001b[1;33m\u001b[0m\u001b[0m\n\u001b[0;32m   1869\u001b[0m         inner.__doc__ = _add_data_doc(inner.__doc__,\n",
      "\u001b[1;32m~\\Anaconda3\\lib\\site-packages\\matplotlib\\axes\\_axes.py\u001b[0m in \u001b[0;36mbar\u001b[1;34m(self, *args, **kwargs)\u001b[0m\n\u001b[0;32m   2236\u001b[0m         x, height, width, y, linewidth = np.broadcast_arrays(\n\u001b[0;32m   2237\u001b[0m             \u001b[1;31m# Make args iterable too.\u001b[0m\u001b[1;33m\u001b[0m\u001b[1;33m\u001b[0m\u001b[0m\n\u001b[1;32m-> 2238\u001b[1;33m             np.atleast_1d(x), height, width, y, linewidth)\n\u001b[0m\u001b[0;32m   2239\u001b[0m \u001b[1;33m\u001b[0m\u001b[0m\n\u001b[0;32m   2240\u001b[0m         \u001b[1;31m# Now that units have been converted, set the tick locations.\u001b[0m\u001b[1;33m\u001b[0m\u001b[1;33m\u001b[0m\u001b[0m\n",
      "\u001b[1;32m~\\Anaconda3\\lib\\site-packages\\numpy\\lib\\stride_tricks.py\u001b[0m in \u001b[0;36mbroadcast_arrays\u001b[1;34m(*args, **kwargs)\u001b[0m\n\u001b[0;32m    250\u001b[0m     \u001b[0margs\u001b[0m \u001b[1;33m=\u001b[0m \u001b[1;33m[\u001b[0m\u001b[0mnp\u001b[0m\u001b[1;33m.\u001b[0m\u001b[0marray\u001b[0m\u001b[1;33m(\u001b[0m\u001b[0m_m\u001b[0m\u001b[1;33m,\u001b[0m \u001b[0mcopy\u001b[0m\u001b[1;33m=\u001b[0m\u001b[1;32mFalse\u001b[0m\u001b[1;33m,\u001b[0m \u001b[0msubok\u001b[0m\u001b[1;33m=\u001b[0m\u001b[0msubok\u001b[0m\u001b[1;33m)\u001b[0m \u001b[1;32mfor\u001b[0m \u001b[0m_m\u001b[0m \u001b[1;32min\u001b[0m \u001b[0margs\u001b[0m\u001b[1;33m]\u001b[0m\u001b[1;33m\u001b[0m\u001b[0m\n\u001b[0;32m    251\u001b[0m \u001b[1;33m\u001b[0m\u001b[0m\n\u001b[1;32m--> 252\u001b[1;33m     \u001b[0mshape\u001b[0m \u001b[1;33m=\u001b[0m \u001b[0m_broadcast_shape\u001b[0m\u001b[1;33m(\u001b[0m\u001b[1;33m*\u001b[0m\u001b[0margs\u001b[0m\u001b[1;33m)\u001b[0m\u001b[1;33m\u001b[0m\u001b[0m\n\u001b[0m\u001b[0;32m    253\u001b[0m \u001b[1;33m\u001b[0m\u001b[0m\n\u001b[0;32m    254\u001b[0m     \u001b[1;32mif\u001b[0m \u001b[0mall\u001b[0m\u001b[1;33m(\u001b[0m\u001b[0marray\u001b[0m\u001b[1;33m.\u001b[0m\u001b[0mshape\u001b[0m \u001b[1;33m==\u001b[0m \u001b[0mshape\u001b[0m \u001b[1;32mfor\u001b[0m \u001b[0marray\u001b[0m \u001b[1;32min\u001b[0m \u001b[0margs\u001b[0m\u001b[1;33m)\u001b[0m\u001b[1;33m:\u001b[0m\u001b[1;33m\u001b[0m\u001b[0m\n",
      "\u001b[1;32m~\\Anaconda3\\lib\\site-packages\\numpy\\lib\\stride_tricks.py\u001b[0m in \u001b[0;36m_broadcast_shape\u001b[1;34m(*args)\u001b[0m\n\u001b[0;32m    185\u001b[0m     \u001b[1;31m# use the old-iterator because np.nditer does not handle size 0 arrays\u001b[0m\u001b[1;33m\u001b[0m\u001b[1;33m\u001b[0m\u001b[0m\n\u001b[0;32m    186\u001b[0m     \u001b[1;31m# consistently\u001b[0m\u001b[1;33m\u001b[0m\u001b[1;33m\u001b[0m\u001b[0m\n\u001b[1;32m--> 187\u001b[1;33m     \u001b[0mb\u001b[0m \u001b[1;33m=\u001b[0m \u001b[0mnp\u001b[0m\u001b[1;33m.\u001b[0m\u001b[0mbroadcast\u001b[0m\u001b[1;33m(\u001b[0m\u001b[1;33m*\u001b[0m\u001b[0margs\u001b[0m\u001b[1;33m[\u001b[0m\u001b[1;33m:\u001b[0m\u001b[1;36m32\u001b[0m\u001b[1;33m]\u001b[0m\u001b[1;33m)\u001b[0m\u001b[1;33m\u001b[0m\u001b[0m\n\u001b[0m\u001b[0;32m    188\u001b[0m     \u001b[1;31m# unfortunately, it cannot handle 32 or more arguments directly\u001b[0m\u001b[1;33m\u001b[0m\u001b[1;33m\u001b[0m\u001b[0m\n\u001b[0;32m    189\u001b[0m     \u001b[1;32mfor\u001b[0m \u001b[0mpos\u001b[0m \u001b[1;32min\u001b[0m \u001b[0mrange\u001b[0m\u001b[1;33m(\u001b[0m\u001b[1;36m32\u001b[0m\u001b[1;33m,\u001b[0m \u001b[0mlen\u001b[0m\u001b[1;33m(\u001b[0m\u001b[0margs\u001b[0m\u001b[1;33m)\u001b[0m\u001b[1;33m,\u001b[0m \u001b[1;36m31\u001b[0m\u001b[1;33m)\u001b[0m\u001b[1;33m:\u001b[0m\u001b[1;33m\u001b[0m\u001b[0m\n",
      "\u001b[1;31mValueError\u001b[0m: shape mismatch: objects cannot be broadcast to a single shape"
     ]
    },
    {
     "data": {
      "image/png": "[encoded data removed]",
      "text/plain": [
       "<Figure size 432x288 with 1 Axes>"
      ]
     },
     "metadata": {
      "needs_background": "light"
     },
     "output_type": "display_data"
    }
   ],
   "source": [
    "import numpy as np\n",
    "import matplotlib.pyplot as plt\n",
    " \n",
    "# Make a dataset:\n",
    "height = [1/36,2/36,3/36,4/36,5/36,6/36,5/36,4/36,3/36,2/36,1/36]\n",
    "bars = dict.fromkeys(height)\n",
    "y_pos = np.arange(len(bars))\n",
    " \n",
    "# Create bars\n",
    "plt.bar(y_pos, height)\n",
    " \n",
    "# Create names on the x-axis\n",
    "plt.xticks(y_pos, bars)\n",
    " \n",
    "# Show graphic\n",
    "plt.show()"
   ]
  },
  {
   "attachments": {},
   "cell_type": "markdown",
   "metadata": {},
   "source": [
    "Continue verdelingen\n",
    "\n",
    "Een continue kansvariabele is een variabele die elke mogelijke waarde in een interval kan aannemen.\n",
    "\n",
    "Voorbeeld: Een vulmachine van flesjes staat afgesteld op 25 cl. De inhoud van deze flesjes is een continue kansvariabele.\n",
    "Het heeft nu geen zin meer om te spreken van de kans dat een flesje precies 25 cl (dus 25,0000000.... cl) bevat, want zo’n  flesje bestaat simpelweg niet en de kans erop is dan ook nul. \n",
    "Wel kan er bij continue kansverdelingen gesproken worden over de kans dat een flesje een inhoud zal hebben die tussen twee waarden a en b ligt, dus de kans op een interval van waarden\n",
    "\n",
    "Een continue kansvariabele is een variabele die elke mogelijke waarde in een interval kan aannemen.=> Continue verdeling\n",
    "=> Normaalverdeling De grafische vorm voor een kansvariabele is nu een gladde kromme.\n",
    "De gebieden onder een kansverdeling corresponderen met de kansen van X. Zo is bijvoorbeeld de oppervlakte van het gebied A onder de kromme tussen de twee punten a en b in de figuur hierboven de kans dat X een waarde heeft tussen a en b.\n"
   ]
  },
  {
   "attachments": {},
   "cell_type": "markdown",
   "metadata": {},
   "source": [
    "De normale verdeling is in de statistiek belangrijk om de volgende redenen:\n",
    "In de praktijk is gebleken dat er veel variabelen zijn die een normale verdeling volgen of die benaderd kunnen worden door een normale verdeling\n",
    "Een aantal discrete kansverdelingen, onder andere de binomiale kansverdeling, kan benaderd worden door de normale verdeling\n",
    "\n",
    "De dichtheidsfunctie van een normaal verdeelde kansvariabele is\n",
    "\n",
    "f(x)=1/(σ V(2Π))e^(-1/2(x-µ/σ)²\n",
    "\n",
    "met μ het gemiddelde en σ de standaarddeviatie\n",
    "=> Dit betekent dat we enkel μ en σ moeten kennen om de kansverdeling te tekenen\n",
    "\n",
    "\n",
    "\n",
    "\n",
    "Voorbeeld: In het geval van de flesjes die met behulp van een vulmachine gevuld werden tot een streefinhoud van 25 cl is µ = 25 cl. \n",
    "Als de vulmachine zo afgesteld staat dat de standaardafwijking gelijk is aan 0,4 cl, dan is de variabele X de hoeveelheid in cl, waarvan de meetwaarden een normale verdeling volgen met µ = 25 cl en σ = 0,4 cl kort genoteerd met X~N(25; 0,4).\n",
    "\n",
    "De kansverdeling van de normale verdeling (of Gausskromme) is klokvormig. \n",
    "Ze is symmetrisch rond het gemiddelde en de spreiding wordt bepaald \n",
    "door de standaarddeviatie σ. Hoe groter σ, hoe breder de grafiek.\n",
    "\n",
    "µ1 = 0 ; σ1 = 1\n",
    "µ2 = 0 ; σ2 = 0,5\n",
    "µ3 = -2 ; σ3 = 1,3\n",
    "\n",
    "\n",
    "Omdat je voor µ en σ een willekeurige waarde kunt invullen, bestaan er dus vele\n",
    "normale verdelingen. \n",
    "\n",
    "Er is een normale verdeling die een speciale naam gekregen heeft: de\n",
    "standaardnormale verdeling.\n",
    "\n",
    "Definitie: De standaardnormale verdeling is een normale verdeling met het \n",
    "gemiddelde µ  gelijk aan 0 en de standaardafwijking σ gelijk aan 1.\n",
    "De letter X wordt bij de standaardnormale verdeling vervangen door de letter Z. \n"
   ]
  },
  {
   "attachments": {},
   "cell_type": "markdown",
   "metadata": {},
   "source": [
    "Oefening\n",
    "\n",
    "Bereken de volgende drie kansen:\n",
    "P(-1<Z>1)\n",
    "P(-2<Z>2)\n",
    "P(-3<Z>3)"
   ]
  },
  {
   "cell_type": "markdown",
   "metadata": {},
   "source": [
    "P(-1<Z<1)  Dek -1 af \n",
    "= P(Z<1) – P(Z<-1)\n",
    "= P(Z<1) – [1 – P(Z<1)]\n",
    "=P(2<1)  1 + P(Z<1)\n",
    "=2P(2<1) -1 = 2 – 0.8413 – 1 = 0.6826 (ong. 68%)\n",
    "\n",
    "\n",
    "P(-2<Z<2) = ong. 95%\n",
    "P(-3<Z<3) = ong. 99%\n"
   ]
  },
  {
   "cell_type": "markdown",
   "metadata": {},
   "source": [
    "OPDRACHT:\n",
    "\n",
    "1. P(Z<1.25)\n",
    "2. P(1.0<=Z<2.5)\n",
    "3. P(Z<=-1.03)\n",
    "4. bepaal z als P(Z<z)=0.9\n",
    "5. bepaal z als P(-z<Z<z)=0.9\n",
    "6. P(-2.16<Z<0.55)\n",
    "7. P(-2.16<Z<0.55)\n",
    "8. P(Z>=-2.33)"
   ]
  },
  {
   "cell_type": "markdown",
   "metadata": {},
   "source": [
    "1.\t0.8944 (89,44%)\n",
    "2.\tP(1.0 < Z < 2.5) \n",
    "=P(Z < 2.5) – P(Z < 1)\n",
    "= 0.9938 – 0.8413\n",
    "= 0.1525 = 15.25%\n",
    "3.\tP(Z < -1.03) \n",
    "= 1 – P(Z < 1.03)\n",
    "= 1 – 0.8485\n",
    "= 0.1515 = 15.15%\n",
    "4.\t1.28\n",
    "5.\tGrafisch uittekenen 90% is waarde in het midden dus eigenlijk is P(Z<z) = 95%\n",
    "=1.64\n",
    "6.\t68.26% (zie grafisch)\n",
    "7.\tP(-2.16 < Z < 0.55)\n",
    "= (afdekken) = P(Z < 0.55) = 0.7088\n",
    "= 0.7088 – P(Z<-2.16\n",
    "= 0.7088 – [1 – P(Z<2.16)]\n",
    "= 0.7088 – [1 – 0.9846]\n",
    "= 0.6934 = 69.34%\n",
    "8.\tP(Z > -2.33) (zie grafisch) = P(Z < 2.33) == 0.9901 = 99.01%\n"
   ]
  },
  {
   "attachments": {},
   "cell_type": "markdown",
   "metadata": {},
   "source": [
    "We kunnen kansen berekenen van normaalverdeele variabelen door deze variabele\n",
    "om te vormen naar een standaardnormale variabele. \n",
    "\n",
    "Dit kunnen we met behulp van de z-score.\u000b",
    "\u000b",
    "De z-score van een variabele is\n",
    "\n",
    "Z=(x-µ)/σ\n",
    "\n",
    "Als X een normaal verdeelde variabele is met gemiddelde µ en standaarddeviatie\n",
    "σ, dan heeft de kansvariabele Z, gedefinieerd door de formule: \n",
    "\n",
    "Z=(x-µ)/σ\n",
    "\n",
    "een standaardnormale verdeling.\n"
   ]
  },
  {
   "attachments": {},
   "cell_type": "markdown",
   "metadata": {},
   "source": [
    "Voorbeeld1:\n",
    "\n",
    "Veronderstel dat de tijdsduur X tussen opeenvolgende keren opladen\n",
    "van een mobiele telefoon een normale verdeling heeft met een gemiddelde van\n",
    "tien uur en een standaarddeviatie van 1,5 uur. \n",
    "\n",
    "Bepaal de kans dat de mobiele telefoon tussen de acht en de twaalf uur blijft\n",
    "werken zonder opgeladen te hoeven worden.\n",
    "\n",
    "Gegeven: X = tijdsduur tussen opeenvolgende keer opladen\n",
    "\t\t\t\tX~N(10; 1,5)\n",
    "Gevraagd: P(8 < X < 12)\n",
    "\n",
    "Voorbeeld1:\n",
    "Hieronder wordt de normale verdeling met gemiddelde 10 en standaarddeviatie\n",
    "1,5 weergegeven.\n",
    "De kans dat het opladen voldoende is voor acht tot twaalf uur is gearceerd.\n",
    "\n",
    "Voorbeeld1:\n",
    "Om de kans te vinden, moeten we eerst de verdeling omrekenen naar de\n",
    "Standaardnormale verdeling door de z-score te berekenen:\n",
    "\n",
    "(8-10)/1.5=-1.33\n",
    "(12-10)/1.5=1.33\n",
    "\n",
    "Voorbeeld1:\n",
    "De relevante z-scores zijn onder de x-waarden op de horizontale as aangegeven. \n",
    "Je ziet dat z = 0 overeenkomt met het gemiddelde van 10 uur, terwijl de \n",
    "x-waarden 8 en 12 de z-scores -1,33 respectievelijk 1,33 geven. \n",
    "\n",
    "De gebeurtenis dat de telefoon tussen de 8 en de 12 uur opgeladen blijft, \n",
    "is dus equivalent met de gebeurtenis dat een standaardnormaalverdeelde \n",
    "variabele tussen -1,33 en 1,33 ligt. \n",
    "\n",
    "We vinden dus\n",
    "P(8<X<12) = P((8-10-/1.5)<((x-µ)/σ)<((12-10-/1.5)\n",
    "\n",
    "=P(-1.33<Z<1.33)\n",
    "\n",
    "=P(Z<1.33)-P(Z<-1.33)\n",
    "\n",
    "=0.9082-(1-P(Z<1.33))\n",
    "\n",
    "=0.9082-(1-0.9082)\n",
    "\n",
    "=0.8164"
   ]
  },
  {
   "attachments": {},
   "cell_type": "markdown",
   "metadata": {},
   "source": [
    "opdrachten\n",
    "\n",
    "Oefening 1)\n",
    "\n",
    "Bij een bepaalde bevolkingsgroep is de gemiddelde lengte van de meisjes van 8\n",
    "jaar 1,35 m met een standaardafwijking van 6 cm. Voor de meisjes van 18 jaar bij\n",
    "deze bevolkingsgroep is de gemiddelde lengte 1,72 m, met een standaardafwijking\n",
    "van 8 cm. Anneke is 8 jaar en meet 1,38 m. Leen is 18 jaar en meet 1,75 m. Wie\n",
    "is relatief gezien de grootste van de twee? Verklaar je antwoord.\n",
    "\n",
    "Z Anneke = (1.38m – 1.35m)/0.06m = 0.5\n",
    "Z Leen = (1.75m – 1.72m)/0.08m = 0.375\n",
    "Antwoord: Anneke is relatief het grootste.\n"
   ]
  },
  {
   "cell_type": "markdown",
   "metadata": {},
   "source": [
    "Oefening 2)\n",
    "\n",
    "Gegeven X~N(75, 5). Bereken:\n",
    "\n",
    "(a) P(X > 72,3)\n",
    "(b) P(X > 86,4)\n",
    "(c) P(78,3 < X < 90,5)\n",
    "(d) x als P(X < x) = 87 %\n",
    "\n",
    "\n",
    "Gegeven X~N(75, 5). Bereken:\n",
    "(a) P(X > 72,3) \n",
    "\n",
    "P(X>72.3) = P(Z>(72.3-75)/5) = P(Z> -0.54) = P(Z<0.54) = 0.7054 = 70.54%\n",
    "\n",
    "(b) P(X > 86,4)\n",
    "\n",
    "P(X>86.4) = P(Z>(86.4-75)/5) = P(Z> 2.28) = 1 - P(Z< 2.28) = 1 - 0.9887 = 0.013 = 1.13%\n",
    "\n",
    "(c) P(78,3 < X < 90,5)\n",
    "\n",
    " P(78.3<X<90.5) = P(0.66 < Z < 3.1) = P(Z < 3.1) – P(Z < 0.66) = 1 – 0.7454 =  0.2546 = 25.46%\n",
    " \n",
    "(d) x als P(X < x) = 87 %\n",
    "\n",
    "P(Z<(x-75)/5) = 0.87 \n",
    "\n",
    "(x-75)/5 = 1.13\n",
    "\n",
    "X= 75+5 * 1.13 = 80.65\n"
   ]
  },
  {
   "attachments": {},
   "cell_type": "markdown",
   "metadata": {},
   "source": [
    "oefening 3)\n",
    "Gegeven X~N(µ; σ), P(X < 19,2) = 0,9918 en P(X < 12,66) = 0,5871. Bereken\n",
    "µ en σ.\n",
    "P(X < 19.2) = 0.9918\n",
    "\n",
    "P(Z < (19.2 - µ)/  σ) = 0.9918\n",
    "\n",
    "µ = 12, σ = 3\n"
   ]
  },
  {
   "attachments": {},
   "cell_type": "markdown",
   "metadata": {},
   "source": [
    "Oefening 4)\n",
    "\n",
    "De diameter van een reeks ringen door een machine vervaardigd bedraagt\n",
    "gemiddeld 14,04 mm en de standaardafwijking is 0,14 mm. De toegelaten\n",
    "spreiding rond het gemiddelde bedraagt 0,18 mm. Bereken het percentage \n",
    "defecte stukken voortgebracht door de machine, in de veronderstelling dat de \n",
    "diameters normaal verdeeld zijn.\n",
    "\n",
    "X moet tussen 13.86 en de 14.22 liggen (dan zijn ze niet defect)\n",
    "\n",
    "= P(13.86 < X < 14.22)\n",
    "\n",
    "= P((13.86 – 14.04)/0.14) < Z < (14.22 – 14.04)/0.14)\n",
    "\n",
    "=P(-1.29 < Z < 1.29)\n",
    "\n",
    "= P(Z < 1.29 ) – P(Z < -1.29)\n",
    "\n",
    "= P(Z < 1.29) – [1 – P(Z < 1.29)]\n",
    "\n",
    "=2P(Z < 1.29) – 1 = 2 * 0.9015 – 1 = 0.803 = 80.30% (niet defect)\n",
    "\n",
    "->Defecte stukken : 100% - 80.30% = 19.70%\n"
   ]
  },
  {
   "attachments": {},
   "cell_type": "markdown",
   "metadata": {},
   "source": [
    "Oefening 5)\n",
    "\n",
    "In een fabriek worden flessen automatisch gevuld. De inhoud van de gevulde \n",
    "Flessen heeft een normale verdeling rond de inhoud waarop de machine is \n",
    "ingesteld. \n",
    "De standaardafwijking bedraagt 5 cc. \n",
    "De fabriek wenst dat 90 % van de flessen een inhoud hebben van minstens 500 cc. \n",
    "\n",
    "Op welke maat moet de machine ingesteld worden?\n",
    "\n",
    "σ = 5   µ = ? \n",
    "\n",
    "P(X>500) = 0.90 \t\n",
    "\n",
    "P(Z > (500 - µ)/5) = 0.90\t    \n",
    "\n",
    "P(Z < - (500-µ)/5) = 0.90\n",
    "\n",
    "-500 + µ / 5 = 1.28  µ = 506.4\n"
   ]
  },
  {
   "attachments": {},
   "cell_type": "markdown",
   "metadata": {},
   "source": [
    "Oefening 6)\n",
    "\n",
    "De kansvariabele X heeft een normale verdeling met gemiddelde 1000 en\n",
    "standaardafwijking van 10. \n",
    "\n",
    "Bepaal de waarde van X die het 80ste percentiel van deze verdeling \n",
    "vertegenwoordigt. \n",
    "\n",
    "En het 10de percentiel?\n",
    "\n",
    "P(X < x) \n",
    "\n",
    "P(Z < (x - 1000)/10)= 0.80\n",
    "\n",
    "X = 8.4 + 1000 = 1008.4\n",
    "\n",
    "P(X < x) = 0.10\n",
    "\n",
    "P(Z < (x - 1000)/10) = 0.10\n",
    "\n",
    "P(Z < - (x-1000)/10) = 0.90\n",
    "\n",
    "(-x + 1000)/10 = 1.28\n",
    "\n",
    "x = 987.2\n"
   ]
  },
  {
   "attachments": {},
   "cell_type": "markdown",
   "metadata": {},
   "source": [
    "\n"
   ]
  }
 ],
 "metadata": {
  "kernelspec": {
   "display_name": "Python 3",
   "language": "python",
   "name": "python3"
  },
  "language_info": {
   "codemirror_mode": {
    "name": "ipython",
    "version": 3
   },
   "file_extension": ".py",
   "mimetype": "text/x-python",
   "name": "python",
   "nbconvert_exporter": "python",
   "pygments_lexer": "ipython3",
   "version": "3.7.0"
  }
 },
 "nbformat": 4,
 "nbformat_minor": 2
}
