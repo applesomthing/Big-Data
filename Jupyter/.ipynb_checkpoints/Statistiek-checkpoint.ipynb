{
 "cells": [
  {
   "cell_type": "markdown",
   "metadata": {},
   "source": [
    "Introductie\n",
    "\n",
    "big data: één of meer datasets die te groot zijn voor regulieren databasemanagementsystemen\n",
    "\n",
    "verzameling van eenheden die we bestuderen vb.: populatie\n",
    "deelverameling van eenheden van de populatie: steekproef\n",
    "gegevens waarmee we kunnen rekenen en het zinvol is om te rekenen: kwantitatief\n",
    "    *continu: alle waarde in een bepaald interval mogelijk\n",
    "    *Discreet: bepaald aantal waarde mogelijk\n",
    "gegevens waarmee we niet kunnen rekenen of het niet zinvol is te rekenen: kwalitatief"
   ]
  },
  {
   "attachments": {},
   "cell_type": "markdown",
   "metadata": {},
   "source": [
    "Met welke soort gegevens hebben we hier te maken?\n",
    "(a) bloedgroep\n",
    "(b) temperatuur\n",
    "(c) rendement (hoog-laag-normaal)\n",
    "(d) geslacht\n",
    "(e) examencijfers\n",
    "(f) godsdienst\n",
    "(g) Salarisschaal (HEI19, HEI18, HEI17, ...)\n",
    "(h) het aantal producten dat niet voldoet aan de kwaliteitscriteria\n",
    "(i) de kleur van een kledingsstuk\n",
    "(j) de mate van tevredenheid\n",
    "(k) het merk van een auto\n",
    "(l) de levensduur van een wasmachine"
   ]
  },
  {
   "cell_type": "markdown",
   "metadata": {},
   "source": [
    "(a) kwalitatief\n",
    "(b) kwantitatief continu\n",
    "(c) kwalitatief\n",
    "(d) kwalitatief\n",
    "(e) kwantitatief discreet\n",
    "(f) \n",
    "(g) \n",
    "(h) \n",
    "(i) \n",
    "(j) \n",
    "(k) \n",
    "(l)"
   ]
  }
 ],
 "metadata": {
  "kernelspec": {
   "display_name": "Python 3",
   "language": "python",
   "name": "python3"
  },
  "language_info": {
   "codemirror_mode": {
    "name": "ipython",
    "version": 3
   },
   "file_extension": ".py",
   "mimetype": "text/x-python",
   "name": "python",
   "nbconvert_exporter": "python",
   "pygments_lexer": "ipython3",
   "version": "3.7.0"
  }
 },
 "nbformat": 4,
 "nbformat_minor": 2
}
